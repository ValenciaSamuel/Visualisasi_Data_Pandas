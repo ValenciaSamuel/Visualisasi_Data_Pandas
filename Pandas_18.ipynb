{
 "cells": [
  {
   "cell_type": "markdown",
   "id": "449fd608",
   "metadata": {},
   "source": [
    "# 18: Membentuk dummy Data Frame"
   ]
  },
  {
   "cell_type": "markdown",
   "id": "f64eb47f",
   "metadata": {},
   "source": [
    "### Import Modules"
   ]
  },
  {
   "cell_type": "code",
   "execution_count": 1,
   "id": "98c969e6",
   "metadata": {},
   "outputs": [
    {
     "name": "stdout",
     "output_type": "stream",
     "text": [
      "1.3.4\n",
      "1.20.3\n"
     ]
    }
   ],
   "source": [
    "import pandas as pd\n",
    "import numpy as np\n",
    "\n",
    "print(pd.__version__)\n",
    "print(np.__version__)"
   ]
  },
  {
   "cell_type": "markdown",
   "id": "c2dc6b8f",
   "metadata": {},
   "source": [
    "### Membentuk Data Frame dari Dictionary"
   ]
  },
  {
   "cell_type": "code",
   "execution_count": 2,
   "id": "f8980afb",
   "metadata": {},
   "outputs": [
    {
     "data": {
      "text/html": [
       "<div>\n",
       "<style scoped>\n",
       "    .dataframe tbody tr th:only-of-type {\n",
       "        vertical-align: middle;\n",
       "    }\n",
       "\n",
       "    .dataframe tbody tr th {\n",
       "        vertical-align: top;\n",
       "    }\n",
       "\n",
       "    .dataframe thead th {\n",
       "        text-align: right;\n",
       "    }\n",
       "</style>\n",
       "<table border=\"1\" class=\"dataframe\">\n",
       "  <thead>\n",
       "    <tr style=\"text-align: right;\">\n",
       "      <th></th>\n",
       "      <th>col1</th>\n",
       "      <th>col2</th>\n",
       "    </tr>\n",
       "  </thead>\n",
       "  <tbody>\n",
       "    <tr>\n",
       "      <th>0</th>\n",
       "      <td>1</td>\n",
       "      <td>5</td>\n",
       "    </tr>\n",
       "    <tr>\n",
       "      <th>1</th>\n",
       "      <td>2</td>\n",
       "      <td>6</td>\n",
       "    </tr>\n",
       "    <tr>\n",
       "      <th>2</th>\n",
       "      <td>3</td>\n",
       "      <td>7</td>\n",
       "    </tr>\n",
       "    <tr>\n",
       "      <th>3</th>\n",
       "      <td>4</td>\n",
       "      <td>8</td>\n",
       "    </tr>\n",
       "  </tbody>\n",
       "</table>\n",
       "</div>"
      ],
      "text/plain": [
       "   col1  col2\n",
       "0     1     5\n",
       "1     2     6\n",
       "2     3     7\n",
       "3     4     8"
      ]
     },
     "execution_count": 2,
     "metadata": {},
     "output_type": "execute_result"
    }
   ],
   "source": [
    "pd.DataFrame({'col1':[1, 2, 3, 4],\n",
    "              'col2':[5, 6, 7, 8]})"
   ]
  },
  {
   "cell_type": "markdown",
   "id": "3b7013ef",
   "metadata": {},
   "source": [
    "### Membentuk Data Frame dari Numpy Array"
   ]
  },
  {
   "cell_type": "code",
   "execution_count": 3,
   "id": "75a44efb",
   "metadata": {},
   "outputs": [
    {
     "data": {
      "text/plain": [
       "array([[13,  2,  5],\n",
       "       [11, 11,  2],\n",
       "       [14, 19, 14],\n",
       "       [ 5,  3,  3],\n",
       "       [12, 18,  4]])"
      ]
     },
     "execution_count": 3,
     "metadata": {},
     "output_type": "execute_result"
    }
   ],
   "source": [
    "n_rows = 5\n",
    "n_cols = 3\n",
    "\n",
    "arr = np.random.randint(1, 20, size=(n_rows, n_cols))\n",
    "arr"
   ]
  },
  {
   "cell_type": "code",
   "execution_count": 4,
   "id": "f6e9d86d",
   "metadata": {},
   "outputs": [
    {
     "data": {
      "text/html": [
       "<div>\n",
       "<style scoped>\n",
       "    .dataframe tbody tr th:only-of-type {\n",
       "        vertical-align: middle;\n",
       "    }\n",
       "\n",
       "    .dataframe tbody tr th {\n",
       "        vertical-align: top;\n",
       "    }\n",
       "\n",
       "    .dataframe thead th {\n",
       "        text-align: right;\n",
       "    }\n",
       "</style>\n",
       "<table border=\"1\" class=\"dataframe\">\n",
       "  <thead>\n",
       "    <tr style=\"text-align: right;\">\n",
       "      <th></th>\n",
       "      <th>A</th>\n",
       "      <th>B</th>\n",
       "      <th>C</th>\n",
       "    </tr>\n",
       "  </thead>\n",
       "  <tbody>\n",
       "    <tr>\n",
       "      <th>0</th>\n",
       "      <td>13</td>\n",
       "      <td>2</td>\n",
       "      <td>5</td>\n",
       "    </tr>\n",
       "    <tr>\n",
       "      <th>1</th>\n",
       "      <td>11</td>\n",
       "      <td>11</td>\n",
       "      <td>2</td>\n",
       "    </tr>\n",
       "    <tr>\n",
       "      <th>2</th>\n",
       "      <td>14</td>\n",
       "      <td>19</td>\n",
       "      <td>14</td>\n",
       "    </tr>\n",
       "    <tr>\n",
       "      <th>3</th>\n",
       "      <td>5</td>\n",
       "      <td>3</td>\n",
       "      <td>3</td>\n",
       "    </tr>\n",
       "    <tr>\n",
       "      <th>4</th>\n",
       "      <td>12</td>\n",
       "      <td>18</td>\n",
       "      <td>4</td>\n",
       "    </tr>\n",
       "  </tbody>\n",
       "</table>\n",
       "</div>"
      ],
      "text/plain": [
       "    A   B   C\n",
       "0  13   2   5\n",
       "1  11  11   2\n",
       "2  14  19  14\n",
       "3   5   3   3\n",
       "4  12  18   4"
      ]
     },
     "execution_count": 4,
     "metadata": {},
     "output_type": "execute_result"
    }
   ],
   "source": [
    "pd.DataFrame(arr, columns=tuple('ABC')) #DataFrame berdasarkan np array di atas"
   ]
  },
  {
   "cell_type": "markdown",
   "id": "54124e97",
   "metadata": {},
   "source": [
    "### Membentuk Data Frame dengan memanfaatkan pandas.util.testing"
   ]
  },
  {
   "cell_type": "code",
   "execution_count": 5,
   "id": "94775e65",
   "metadata": {},
   "outputs": [
    {
     "name": "stderr",
     "output_type": "stream",
     "text": [
      "D:\\ANACONDA\\lib\\site-packages\\pandas\\util\\__init__.py:15: FutureWarning: pandas.util.testing is deprecated. Use the functions in the public API at pandas.testing instead.\n",
      "  import pandas.util.testing\n"
     ]
    },
    {
     "data": {
      "text/html": [
       "<div>\n",
       "<style scoped>\n",
       "    .dataframe tbody tr th:only-of-type {\n",
       "        vertical-align: middle;\n",
       "    }\n",
       "\n",
       "    .dataframe tbody tr th {\n",
       "        vertical-align: top;\n",
       "    }\n",
       "\n",
       "    .dataframe thead th {\n",
       "        text-align: right;\n",
       "    }\n",
       "</style>\n",
       "<table border=\"1\" class=\"dataframe\">\n",
       "  <thead>\n",
       "    <tr style=\"text-align: right;\">\n",
       "      <th></th>\n",
       "      <th>A</th>\n",
       "      <th>B</th>\n",
       "      <th>C</th>\n",
       "      <th>D</th>\n",
       "    </tr>\n",
       "  </thead>\n",
       "  <tbody>\n",
       "    <tr>\n",
       "      <th>urjEZykPNK</th>\n",
       "      <td>0.819536</td>\n",
       "      <td>0.446791</td>\n",
       "      <td>1.026126</td>\n",
       "      <td>1.207331</td>\n",
       "    </tr>\n",
       "    <tr>\n",
       "      <th>81BLbcd6vV</th>\n",
       "      <td>1.098997</td>\n",
       "      <td>0.515044</td>\n",
       "      <td>0.171990</td>\n",
       "      <td>-0.823375</td>\n",
       "    </tr>\n",
       "    <tr>\n",
       "      <th>A3te2x6sXi</th>\n",
       "      <td>-2.424847</td>\n",
       "      <td>-2.325960</td>\n",
       "      <td>0.563267</td>\n",
       "      <td>-1.138024</td>\n",
       "    </tr>\n",
       "    <tr>\n",
       "      <th>MmuvpDum3D</th>\n",
       "      <td>-0.725197</td>\n",
       "      <td>0.170097</td>\n",
       "      <td>1.014420</td>\n",
       "      <td>-0.527371</td>\n",
       "    </tr>\n",
       "    <tr>\n",
       "      <th>NM4iTfPPgW</th>\n",
       "      <td>2.201655</td>\n",
       "      <td>-0.803886</td>\n",
       "      <td>1.126940</td>\n",
       "      <td>0.559206</td>\n",
       "    </tr>\n",
       "  </tbody>\n",
       "</table>\n",
       "</div>"
      ],
      "text/plain": [
       "                   A         B         C         D\n",
       "urjEZykPNK  0.819536  0.446791  1.026126  1.207331\n",
       "81BLbcd6vV  1.098997  0.515044  0.171990 -0.823375\n",
       "A3te2x6sXi -2.424847 -2.325960  0.563267 -1.138024\n",
       "MmuvpDum3D -0.725197  0.170097  1.014420 -0.527371\n",
       "NM4iTfPPgW  2.201655 -0.803886  1.126940  0.559206"
      ]
     },
     "execution_count": 5,
     "metadata": {},
     "output_type": "execute_result"
    }
   ],
   "source": [
    "pd.util.testing.makeDataFrame().head() "
   ]
  },
  {
   "cell_type": "code",
   "execution_count": 7,
   "id": "dc143580",
   "metadata": {},
   "outputs": [
    {
     "data": {
      "text/html": [
       "<div>\n",
       "<style scoped>\n",
       "    .dataframe tbody tr th:only-of-type {\n",
       "        vertical-align: middle;\n",
       "    }\n",
       "\n",
       "    .dataframe tbody tr th {\n",
       "        vertical-align: top;\n",
       "    }\n",
       "\n",
       "    .dataframe thead th {\n",
       "        text-align: right;\n",
       "    }\n",
       "</style>\n",
       "<table border=\"1\" class=\"dataframe\">\n",
       "  <thead>\n",
       "    <tr style=\"text-align: right;\">\n",
       "      <th></th>\n",
       "      <th>A</th>\n",
       "      <th>B</th>\n",
       "      <th>C</th>\n",
       "      <th>D</th>\n",
       "    </tr>\n",
       "  </thead>\n",
       "  <tbody>\n",
       "    <tr>\n",
       "      <th>0</th>\n",
       "      <td>0.0</td>\n",
       "      <td>0.0</td>\n",
       "      <td>foo1</td>\n",
       "      <td>2009-01-01</td>\n",
       "    </tr>\n",
       "    <tr>\n",
       "      <th>1</th>\n",
       "      <td>1.0</td>\n",
       "      <td>1.0</td>\n",
       "      <td>foo2</td>\n",
       "      <td>2009-01-02</td>\n",
       "    </tr>\n",
       "    <tr>\n",
       "      <th>2</th>\n",
       "      <td>2.0</td>\n",
       "      <td>0.0</td>\n",
       "      <td>foo3</td>\n",
       "      <td>2009-01-05</td>\n",
       "    </tr>\n",
       "    <tr>\n",
       "      <th>3</th>\n",
       "      <td>3.0</td>\n",
       "      <td>1.0</td>\n",
       "      <td>foo4</td>\n",
       "      <td>2009-01-06</td>\n",
       "    </tr>\n",
       "    <tr>\n",
       "      <th>4</th>\n",
       "      <td>4.0</td>\n",
       "      <td>0.0</td>\n",
       "      <td>foo5</td>\n",
       "      <td>2009-01-07</td>\n",
       "    </tr>\n",
       "  </tbody>\n",
       "</table>\n",
       "</div>"
      ],
      "text/plain": [
       "     A    B     C          D\n",
       "0  0.0  0.0  foo1 2009-01-01\n",
       "1  1.0  1.0  foo2 2009-01-02\n",
       "2  2.0  0.0  foo3 2009-01-05\n",
       "3  3.0  1.0  foo4 2009-01-06\n",
       "4  4.0  0.0  foo5 2009-01-07"
      ]
     },
     "execution_count": 7,
     "metadata": {},
     "output_type": "execute_result"
    }
   ],
   "source": [
    "pd.util.testing.makeMixedDataFrame().head()"
   ]
  },
  {
   "cell_type": "code",
   "execution_count": 8,
   "id": "5cb5acc2",
   "metadata": {},
   "outputs": [
    {
     "data": {
      "text/html": [
       "<div>\n",
       "<style scoped>\n",
       "    .dataframe tbody tr th:only-of-type {\n",
       "        vertical-align: middle;\n",
       "    }\n",
       "\n",
       "    .dataframe tbody tr th {\n",
       "        vertical-align: top;\n",
       "    }\n",
       "\n",
       "    .dataframe thead th {\n",
       "        text-align: right;\n",
       "    }\n",
       "</style>\n",
       "<table border=\"1\" class=\"dataframe\">\n",
       "  <thead>\n",
       "    <tr style=\"text-align: right;\">\n",
       "      <th></th>\n",
       "      <th>A</th>\n",
       "      <th>B</th>\n",
       "      <th>C</th>\n",
       "      <th>D</th>\n",
       "    </tr>\n",
       "  </thead>\n",
       "  <tbody>\n",
       "    <tr>\n",
       "      <th>2000-01-03</th>\n",
       "      <td>-0.666356</td>\n",
       "      <td>1.530420</td>\n",
       "      <td>-1.277106</td>\n",
       "      <td>0.997676</td>\n",
       "    </tr>\n",
       "    <tr>\n",
       "      <th>2000-01-04</th>\n",
       "      <td>-0.590934</td>\n",
       "      <td>-2.120908</td>\n",
       "      <td>1.205840</td>\n",
       "      <td>-1.051424</td>\n",
       "    </tr>\n",
       "    <tr>\n",
       "      <th>2000-01-05</th>\n",
       "      <td>1.098052</td>\n",
       "      <td>-1.117232</td>\n",
       "      <td>-0.403903</td>\n",
       "      <td>0.197022</td>\n",
       "    </tr>\n",
       "    <tr>\n",
       "      <th>2000-01-06</th>\n",
       "      <td>0.789908</td>\n",
       "      <td>-0.670332</td>\n",
       "      <td>-1.123339</td>\n",
       "      <td>-1.087926</td>\n",
       "    </tr>\n",
       "    <tr>\n",
       "      <th>2000-01-07</th>\n",
       "      <td>2.008635</td>\n",
       "      <td>0.030591</td>\n",
       "      <td>0.799119</td>\n",
       "      <td>-0.765428</td>\n",
       "    </tr>\n",
       "  </tbody>\n",
       "</table>\n",
       "</div>"
      ],
      "text/plain": [
       "                   A         B         C         D\n",
       "2000-01-03 -0.666356  1.530420 -1.277106  0.997676\n",
       "2000-01-04 -0.590934 -2.120908  1.205840 -1.051424\n",
       "2000-01-05  1.098052 -1.117232 -0.403903  0.197022\n",
       "2000-01-06  0.789908 -0.670332 -1.123339 -1.087926\n",
       "2000-01-07  2.008635  0.030591  0.799119 -0.765428"
      ]
     },
     "execution_count": 8,
     "metadata": {},
     "output_type": "execute_result"
    }
   ],
   "source": [
    "pd.util.testing.makeTimeDataFrame().head()"
   ]
  },
  {
   "cell_type": "code",
   "execution_count": 10,
   "id": "31579a02",
   "metadata": {},
   "outputs": [
    {
     "data": {
      "text/html": [
       "<div>\n",
       "<style scoped>\n",
       "    .dataframe tbody tr th:only-of-type {\n",
       "        vertical-align: middle;\n",
       "    }\n",
       "\n",
       "    .dataframe tbody tr th {\n",
       "        vertical-align: top;\n",
       "    }\n",
       "\n",
       "    .dataframe thead th {\n",
       "        text-align: right;\n",
       "    }\n",
       "</style>\n",
       "<table border=\"1\" class=\"dataframe\">\n",
       "  <thead>\n",
       "    <tr style=\"text-align: right;\">\n",
       "      <th></th>\n",
       "      <th>A</th>\n",
       "      <th>B</th>\n",
       "      <th>C</th>\n",
       "      <th>D</th>\n",
       "    </tr>\n",
       "  </thead>\n",
       "  <tbody>\n",
       "    <tr>\n",
       "      <th>UmIDoxmAU2</th>\n",
       "      <td>-0.665179</td>\n",
       "      <td>-0.044964</td>\n",
       "      <td>0.540831</td>\n",
       "      <td>0.353927</td>\n",
       "    </tr>\n",
       "    <tr>\n",
       "      <th>A6XZ4QqDrB</th>\n",
       "      <td>-0.894895</td>\n",
       "      <td>-0.120901</td>\n",
       "      <td>NaN</td>\n",
       "      <td>-0.044776</td>\n",
       "    </tr>\n",
       "    <tr>\n",
       "      <th>rrOaOSmueH</th>\n",
       "      <td>NaN</td>\n",
       "      <td>2.309580</td>\n",
       "      <td>0.265840</td>\n",
       "      <td>0.585093</td>\n",
       "    </tr>\n",
       "    <tr>\n",
       "      <th>Emj8WzjmQ7</th>\n",
       "      <td>0.487063</td>\n",
       "      <td>0.471000</td>\n",
       "      <td>0.539789</td>\n",
       "      <td>NaN</td>\n",
       "    </tr>\n",
       "    <tr>\n",
       "      <th>gpTJEKK4ox</th>\n",
       "      <td>-1.076272</td>\n",
       "      <td>-0.087482</td>\n",
       "      <td>-0.550736</td>\n",
       "      <td>-0.617856</td>\n",
       "    </tr>\n",
       "  </tbody>\n",
       "</table>\n",
       "</div>"
      ],
      "text/plain": [
       "                   A         B         C         D\n",
       "UmIDoxmAU2 -0.665179 -0.044964  0.540831  0.353927\n",
       "A6XZ4QqDrB -0.894895 -0.120901       NaN -0.044776\n",
       "rrOaOSmueH       NaN  2.309580  0.265840  0.585093\n",
       "Emj8WzjmQ7  0.487063  0.471000  0.539789       NaN\n",
       "gpTJEKK4ox -1.076272 -0.087482 -0.550736 -0.617856"
      ]
     },
     "execution_count": 10,
     "metadata": {},
     "output_type": "execute_result"
    }
   ],
   "source": [
    "pd.util.testing.makeMissingDataframe().head()"
   ]
  }
 ],
 "metadata": {
  "kernelspec": {
   "display_name": "Python 3 (ipykernel)",
   "language": "python",
   "name": "python3"
  },
  "language_info": {
   "codemirror_mode": {
    "name": "ipython",
    "version": 3
   },
   "file_extension": ".py",
   "mimetype": "text/x-python",
   "name": "python",
   "nbconvert_exporter": "python",
   "pygments_lexer": "ipython3",
   "version": "3.9.7"
  }
 },
 "nbformat": 4,
 "nbformat_minor": 5
}

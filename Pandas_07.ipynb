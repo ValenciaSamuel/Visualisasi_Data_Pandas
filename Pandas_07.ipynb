{
 "cells": [
  {
   "cell_type": "markdown",
   "id": "8e6415e0",
   "metadata": {},
   "source": [
    "# 07: Menghapus(drop) missing values(NaN)"
   ]
  },
  {
   "cell_type": "code",
   "execution_count": 2,
   "id": "294c5d4a",
   "metadata": {},
   "outputs": [
    {
     "name": "stdout",
     "output_type": "stream",
     "text": [
      "1.3.4\n"
     ]
    }
   ],
   "source": [
    "import pandas as pd\n",
    "\n",
    "print(pd.__version__)"
   ]
  },
  {
   "cell_type": "markdown",
   "id": "1030d442",
   "metadata": {},
   "source": [
    "### Persiapan Data Frame"
   ]
  },
  {
   "cell_type": "code",
   "execution_count": 35,
   "id": "e57fefd4",
   "metadata": {},
   "outputs": [
    {
     "data": {
      "text/html": [
       "<div>\n",
       "<style scoped>\n",
       "    .dataframe tbody tr th:only-of-type {\n",
       "        vertical-align: middle;\n",
       "    }\n",
       "\n",
       "    .dataframe tbody tr th {\n",
       "        vertical-align: top;\n",
       "    }\n",
       "\n",
       "    .dataframe thead th {\n",
       "        text-align: right;\n",
       "    }\n",
       "</style>\n",
       "<table border=\"1\" class=\"dataframe\">\n",
       "  <thead>\n",
       "    <tr style=\"text-align: right;\">\n",
       "      <th></th>\n",
       "      <th>index</th>\n",
       "      <th>A</th>\n",
       "      <th>B</th>\n",
       "      <th>C</th>\n",
       "      <th>D</th>\n",
       "    </tr>\n",
       "  </thead>\n",
       "  <tbody>\n",
       "    <tr>\n",
       "      <th>0</th>\n",
       "      <td>8t0Oo8cPWS</td>\n",
       "      <td>-0.169903</td>\n",
       "      <td>0.617061</td>\n",
       "      <td>-0.840649</td>\n",
       "      <td>0.564556</td>\n",
       "    </tr>\n",
       "    <tr>\n",
       "      <th>1</th>\n",
       "      <td>KNg5iAqdlF</td>\n",
       "      <td>0.239618</td>\n",
       "      <td>-0.329133</td>\n",
       "      <td>1.399410</td>\n",
       "      <td>-0.068330</td>\n",
       "    </tr>\n",
       "    <tr>\n",
       "      <th>2</th>\n",
       "      <td>8aXk4mBghW</td>\n",
       "      <td>-0.578299</td>\n",
       "      <td>-1.016109</td>\n",
       "      <td>-0.020419</td>\n",
       "      <td>-0.084144</td>\n",
       "    </tr>\n",
       "    <tr>\n",
       "      <th>3</th>\n",
       "      <td>QlC2WxoZMj</td>\n",
       "      <td>-0.538908</td>\n",
       "      <td>0.839623</td>\n",
       "      <td>2.024604</td>\n",
       "      <td>-2.107474</td>\n",
       "    </tr>\n",
       "    <tr>\n",
       "      <th>4</th>\n",
       "      <td>lYtRH5RnlN</td>\n",
       "      <td>NaN</td>\n",
       "      <td>-0.867308</td>\n",
       "      <td>-0.467572</td>\n",
       "      <td>-0.650398</td>\n",
       "    </tr>\n",
       "  </tbody>\n",
       "</table>\n",
       "</div>"
      ],
      "text/plain": [
       "        index         A         B         C         D\n",
       "0  8t0Oo8cPWS -0.169903  0.617061 -0.840649  0.564556\n",
       "1  KNg5iAqdlF  0.239618 -0.329133  1.399410 -0.068330\n",
       "2  8aXk4mBghW -0.578299 -1.016109 -0.020419 -0.084144\n",
       "3  QlC2WxoZMj -0.538908  0.839623  2.024604 -2.107474\n",
       "4  lYtRH5RnlN       NaN -0.867308 -0.467572 -0.650398"
      ]
     },
     "execution_count": 35,
     "metadata": {},
     "output_type": "execute_result"
    }
   ],
   "source": [
    "df = pd.util.testing.makeMissingDataframe().reset_index()\n",
    "df.head()"
   ]
  },
  {
   "cell_type": "code",
   "execution_count": null,
   "id": "5c56c39d",
   "metadata": {},
   "outputs": [],
   "source": [
    "# Menghasilkan data frame dummy yang memiliki missing values didalamnya\n",
    "# .reset_index() = membentuk index baru, index lama akan diadopsi sebagai kolom biasa"
   ]
  },
  {
   "cell_type": "code",
   "execution_count": 36,
   "id": "692ef48b",
   "metadata": {},
   "outputs": [
    {
     "data": {
      "text/html": [
       "<div>\n",
       "<style scoped>\n",
       "    .dataframe tbody tr th:only-of-type {\n",
       "        vertical-align: middle;\n",
       "    }\n",
       "\n",
       "    .dataframe tbody tr th {\n",
       "        vertical-align: top;\n",
       "    }\n",
       "\n",
       "    .dataframe thead th {\n",
       "        text-align: right;\n",
       "    }\n",
       "</style>\n",
       "<table border=\"1\" class=\"dataframe\">\n",
       "  <thead>\n",
       "    <tr style=\"text-align: right;\">\n",
       "      <th></th>\n",
       "      <th>Z</th>\n",
       "      <th>A</th>\n",
       "      <th>B</th>\n",
       "      <th>C</th>\n",
       "      <th>D</th>\n",
       "    </tr>\n",
       "  </thead>\n",
       "  <tbody>\n",
       "    <tr>\n",
       "      <th>0</th>\n",
       "      <td>8t0Oo8cPWS</td>\n",
       "      <td>-0.169903</td>\n",
       "      <td>0.617061</td>\n",
       "      <td>-0.840649</td>\n",
       "      <td>0.564556</td>\n",
       "    </tr>\n",
       "    <tr>\n",
       "      <th>1</th>\n",
       "      <td>KNg5iAqdlF</td>\n",
       "      <td>0.239618</td>\n",
       "      <td>-0.329133</td>\n",
       "      <td>1.399410</td>\n",
       "      <td>-0.068330</td>\n",
       "    </tr>\n",
       "    <tr>\n",
       "      <th>2</th>\n",
       "      <td>8aXk4mBghW</td>\n",
       "      <td>-0.578299</td>\n",
       "      <td>-1.016109</td>\n",
       "      <td>-0.020419</td>\n",
       "      <td>-0.084144</td>\n",
       "    </tr>\n",
       "    <tr>\n",
       "      <th>3</th>\n",
       "      <td>QlC2WxoZMj</td>\n",
       "      <td>-0.538908</td>\n",
       "      <td>0.839623</td>\n",
       "      <td>2.024604</td>\n",
       "      <td>-2.107474</td>\n",
       "    </tr>\n",
       "    <tr>\n",
       "      <th>4</th>\n",
       "      <td>lYtRH5RnlN</td>\n",
       "      <td>NaN</td>\n",
       "      <td>-0.867308</td>\n",
       "      <td>-0.467572</td>\n",
       "      <td>-0.650398</td>\n",
       "    </tr>\n",
       "  </tbody>\n",
       "</table>\n",
       "</div>"
      ],
      "text/plain": [
       "            Z         A         B         C         D\n",
       "0  8t0Oo8cPWS -0.169903  0.617061 -0.840649  0.564556\n",
       "1  KNg5iAqdlF  0.239618 -0.329133  1.399410 -0.068330\n",
       "2  8aXk4mBghW -0.578299 -1.016109 -0.020419 -0.084144\n",
       "3  QlC2WxoZMj -0.538908  0.839623  2.024604 -2.107474\n",
       "4  lYtRH5RnlN       NaN -0.867308 -0.467572 -0.650398"
      ]
     },
     "execution_count": 36,
     "metadata": {},
     "output_type": "execute_result"
    }
   ],
   "source": [
    "df = df.rename(columns={'index':'Z'})\n",
    "df.head()"
   ]
  },
  {
   "cell_type": "code",
   "execution_count": 37,
   "id": "ced53b57",
   "metadata": {},
   "outputs": [],
   "source": [
    "df_backup = df.copy(deep=True)"
   ]
  },
  {
   "cell_type": "markdown",
   "id": "f6160db5",
   "metadata": {},
   "source": [
    "### Menghapus(drop) setiap kolom yang mengandung missing values"
   ]
  },
  {
   "cell_type": "code",
   "execution_count": 38,
   "id": "9cf93bb2",
   "metadata": {},
   "outputs": [
    {
     "data": {
      "text/html": [
       "<div>\n",
       "<style scoped>\n",
       "    .dataframe tbody tr th:only-of-type {\n",
       "        vertical-align: middle;\n",
       "    }\n",
       "\n",
       "    .dataframe tbody tr th {\n",
       "        vertical-align: top;\n",
       "    }\n",
       "\n",
       "    .dataframe thead th {\n",
       "        text-align: right;\n",
       "    }\n",
       "</style>\n",
       "<table border=\"1\" class=\"dataframe\">\n",
       "  <thead>\n",
       "    <tr style=\"text-align: right;\">\n",
       "      <th></th>\n",
       "      <th>Z</th>\n",
       "    </tr>\n",
       "  </thead>\n",
       "  <tbody>\n",
       "    <tr>\n",
       "      <th>0</th>\n",
       "      <td>8t0Oo8cPWS</td>\n",
       "    </tr>\n",
       "    <tr>\n",
       "      <th>1</th>\n",
       "      <td>KNg5iAqdlF</td>\n",
       "    </tr>\n",
       "    <tr>\n",
       "      <th>2</th>\n",
       "      <td>8aXk4mBghW</td>\n",
       "    </tr>\n",
       "    <tr>\n",
       "      <th>3</th>\n",
       "      <td>QlC2WxoZMj</td>\n",
       "    </tr>\n",
       "    <tr>\n",
       "      <th>4</th>\n",
       "      <td>lYtRH5RnlN</td>\n",
       "    </tr>\n",
       "  </tbody>\n",
       "</table>\n",
       "</div>"
      ],
      "text/plain": [
       "            Z\n",
       "0  8t0Oo8cPWS\n",
       "1  KNg5iAqdlF\n",
       "2  8aXk4mBghW\n",
       "3  QlC2WxoZMj\n",
       "4  lYtRH5RnlN"
      ]
     },
     "execution_count": 38,
     "metadata": {},
     "output_type": "execute_result"
    }
   ],
   "source": [
    "df = df.dropna(axis='columns')\n",
    "df.head()"
   ]
  },
  {
   "cell_type": "code",
   "execution_count": null,
   "id": "9137b331",
   "metadata": {},
   "outputs": [],
   "source": [
    "# kolom manapun yang mengandung missing values akan dibuang/drop\n",
    "# hasil yang keluar berarti kolom mengandung values"
   ]
  },
  {
   "cell_type": "markdown",
   "id": "e38867b7",
   "metadata": {},
   "source": [
    "### Menghapus(drop) setiap baris yang mengandung missing values"
   ]
  },
  {
   "cell_type": "code",
   "execution_count": 39,
   "id": "d3035581",
   "metadata": {},
   "outputs": [
    {
     "data": {
      "text/html": [
       "<div>\n",
       "<style scoped>\n",
       "    .dataframe tbody tr th:only-of-type {\n",
       "        vertical-align: middle;\n",
       "    }\n",
       "\n",
       "    .dataframe tbody tr th {\n",
       "        vertical-align: top;\n",
       "    }\n",
       "\n",
       "    .dataframe thead th {\n",
       "        text-align: right;\n",
       "    }\n",
       "</style>\n",
       "<table border=\"1\" class=\"dataframe\">\n",
       "  <thead>\n",
       "    <tr style=\"text-align: right;\">\n",
       "      <th></th>\n",
       "      <th>Z</th>\n",
       "      <th>A</th>\n",
       "      <th>B</th>\n",
       "      <th>C</th>\n",
       "      <th>D</th>\n",
       "    </tr>\n",
       "  </thead>\n",
       "  <tbody>\n",
       "    <tr>\n",
       "      <th>0</th>\n",
       "      <td>8t0Oo8cPWS</td>\n",
       "      <td>-0.169903</td>\n",
       "      <td>0.617061</td>\n",
       "      <td>-0.840649</td>\n",
       "      <td>0.564556</td>\n",
       "    </tr>\n",
       "    <tr>\n",
       "      <th>1</th>\n",
       "      <td>KNg5iAqdlF</td>\n",
       "      <td>0.239618</td>\n",
       "      <td>-0.329133</td>\n",
       "      <td>1.399410</td>\n",
       "      <td>-0.068330</td>\n",
       "    </tr>\n",
       "    <tr>\n",
       "      <th>2</th>\n",
       "      <td>8aXk4mBghW</td>\n",
       "      <td>-0.578299</td>\n",
       "      <td>-1.016109</td>\n",
       "      <td>-0.020419</td>\n",
       "      <td>-0.084144</td>\n",
       "    </tr>\n",
       "    <tr>\n",
       "      <th>3</th>\n",
       "      <td>QlC2WxoZMj</td>\n",
       "      <td>-0.538908</td>\n",
       "      <td>0.839623</td>\n",
       "      <td>2.024604</td>\n",
       "      <td>-2.107474</td>\n",
       "    </tr>\n",
       "    <tr>\n",
       "      <th>5</th>\n",
       "      <td>4eHp16ZKRQ</td>\n",
       "      <td>0.028212</td>\n",
       "      <td>1.111788</td>\n",
       "      <td>-1.077376</td>\n",
       "      <td>-0.258540</td>\n",
       "    </tr>\n",
       "  </tbody>\n",
       "</table>\n",
       "</div>"
      ],
      "text/plain": [
       "            Z         A         B         C         D\n",
       "0  8t0Oo8cPWS -0.169903  0.617061 -0.840649  0.564556\n",
       "1  KNg5iAqdlF  0.239618 -0.329133  1.399410 -0.068330\n",
       "2  8aXk4mBghW -0.578299 -1.016109 -0.020419 -0.084144\n",
       "3  QlC2WxoZMj -0.538908  0.839623  2.024604 -2.107474\n",
       "5  4eHp16ZKRQ  0.028212  1.111788 -1.077376 -0.258540"
      ]
     },
     "execution_count": 39,
     "metadata": {},
     "output_type": "execute_result"
    }
   ],
   "source": [
    "df = df_backup.copy(deep=True)\n",
    "df = df.dropna(axis='rows')\n",
    "df.head()"
   ]
  },
  {
   "cell_type": "markdown",
   "id": "588bc778",
   "metadata": {},
   "source": [
    "### Persentase missing values untuk tiap kolom"
   ]
  },
  {
   "cell_type": "code",
   "execution_count": 40,
   "id": "0786e2e7",
   "metadata": {},
   "outputs": [
    {
     "data": {
      "text/plain": [
       "Z    0.000000\n",
       "A    0.133333\n",
       "B    0.100000\n",
       "C    0.066667\n",
       "D    0.100000\n",
       "dtype: float64"
      ]
     },
     "execution_count": 40,
     "metadata": {},
     "output_type": "execute_result"
    }
   ],
   "source": [
    "df = df_backup.copy(deep=True)\n",
    "df.isna().mean()"
   ]
  },
  {
   "cell_type": "markdown",
   "id": "d048e21c",
   "metadata": {},
   "source": [
    "mean() = mengkalkulasi rata-rata/persentase dari missing values yang dimiliki setiap kolom dari data frame "
   ]
  },
  {
   "cell_type": "markdown",
   "id": "4f660dd0",
   "metadata": {},
   "source": [
    "### Menghapus (drop) setiap kolom yang mengandung missing values berdasarkan threshold"
   ]
  },
  {
   "cell_type": "code",
   "execution_count": 41,
   "id": "497c190c",
   "metadata": {},
   "outputs": [
    {
     "data": {
      "text/html": [
       "<div>\n",
       "<style scoped>\n",
       "    .dataframe tbody tr th:only-of-type {\n",
       "        vertical-align: middle;\n",
       "    }\n",
       "\n",
       "    .dataframe tbody tr th {\n",
       "        vertical-align: top;\n",
       "    }\n",
       "\n",
       "    .dataframe thead th {\n",
       "        text-align: right;\n",
       "    }\n",
       "</style>\n",
       "<table border=\"1\" class=\"dataframe\">\n",
       "  <thead>\n",
       "    <tr style=\"text-align: right;\">\n",
       "      <th></th>\n",
       "      <th>Z</th>\n",
       "      <th>B</th>\n",
       "      <th>C</th>\n",
       "      <th>D</th>\n",
       "    </tr>\n",
       "  </thead>\n",
       "  <tbody>\n",
       "    <tr>\n",
       "      <th>0</th>\n",
       "      <td>8t0Oo8cPWS</td>\n",
       "      <td>0.617061</td>\n",
       "      <td>-0.840649</td>\n",
       "      <td>0.564556</td>\n",
       "    </tr>\n",
       "    <tr>\n",
       "      <th>1</th>\n",
       "      <td>KNg5iAqdlF</td>\n",
       "      <td>-0.329133</td>\n",
       "      <td>1.399410</td>\n",
       "      <td>-0.068330</td>\n",
       "    </tr>\n",
       "    <tr>\n",
       "      <th>2</th>\n",
       "      <td>8aXk4mBghW</td>\n",
       "      <td>-1.016109</td>\n",
       "      <td>-0.020419</td>\n",
       "      <td>-0.084144</td>\n",
       "    </tr>\n",
       "    <tr>\n",
       "      <th>3</th>\n",
       "      <td>QlC2WxoZMj</td>\n",
       "      <td>0.839623</td>\n",
       "      <td>2.024604</td>\n",
       "      <td>-2.107474</td>\n",
       "    </tr>\n",
       "    <tr>\n",
       "      <th>4</th>\n",
       "      <td>lYtRH5RnlN</td>\n",
       "      <td>-0.867308</td>\n",
       "      <td>-0.467572</td>\n",
       "      <td>-0.650398</td>\n",
       "    </tr>\n",
       "  </tbody>\n",
       "</table>\n",
       "</div>"
      ],
      "text/plain": [
       "            Z         B         C         D\n",
       "0  8t0Oo8cPWS  0.617061 -0.840649  0.564556\n",
       "1  KNg5iAqdlF -0.329133  1.399410 -0.068330\n",
       "2  8aXk4mBghW -1.016109 -0.020419 -0.084144\n",
       "3  QlC2WxoZMj  0.839623  2.024604 -2.107474\n",
       "4  lYtRH5RnlN -0.867308 -0.467572 -0.650398"
      ]
     },
     "execution_count": 41,
     "metadata": {},
     "output_type": "execute_result"
    }
   ],
   "source": [
    "treshold = len(df) * 0.9\n",
    "df = df.dropna(thresh=treshold, axis='columns')\n",
    "df.head()"
   ]
  },
  {
   "cell_type": "code",
   "execution_count": null,
   "id": "efae1a31",
   "metadata": {},
   "outputs": [],
   "source": [
    "# dengan melakukan pertimbangan \n",
    "# jika missing values sudah sangat tinggi/melewati batas treshold yang ditentukan akan dibuang"
   ]
  }
 ],
 "metadata": {
  "kernelspec": {
   "display_name": "Python 3 (ipykernel)",
   "language": "python",
   "name": "python3"
  },
  "language_info": {
   "codemirror_mode": {
    "name": "ipython",
    "version": 3
   },
   "file_extension": ".py",
   "mimetype": "text/x-python",
   "name": "python",
   "nbconvert_exporter": "python",
   "pygments_lexer": "ipython3",
   "version": "3.9.7"
  }
 },
 "nbformat": 4,
 "nbformat_minor": 5
}

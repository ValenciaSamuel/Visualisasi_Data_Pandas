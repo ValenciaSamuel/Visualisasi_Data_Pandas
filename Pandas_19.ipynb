{
 "cells": [
  {
   "cell_type": "markdown",
   "id": "a01edf90",
   "metadata": {},
   "source": [
    "# 19: Formatting tampilan Data Frame"
   ]
  },
  {
   "cell_type": "markdown",
   "id": "312ee87d",
   "metadata": {},
   "source": [
    "### Import Modules"
   ]
  },
  {
   "cell_type": "code",
   "execution_count": 1,
   "id": "18ab3de2",
   "metadata": {},
   "outputs": [
    {
     "name": "stdout",
     "output_type": "stream",
     "text": [
      "1.3.4\n",
      "1.20.3\n"
     ]
    }
   ],
   "source": [
    "import pandas as pd\n",
    "import numpy as np\n",
    "\n",
    "print(pd.__version__)\n",
    "print(np.__version__)"
   ]
  },
  {
   "cell_type": "markdown",
   "id": "80c8e8c8",
   "metadata": {},
   "source": [
    "### Persiapan Data Frame"
   ]
  },
  {
   "cell_type": "code",
   "execution_count": 3,
   "id": "0ca1a406",
   "metadata": {},
   "outputs": [
    {
     "data": {
      "text/html": [
       "<div>\n",
       "<style scoped>\n",
       "    .dataframe tbody tr th:only-of-type {\n",
       "        vertical-align: middle;\n",
       "    }\n",
       "\n",
       "    .dataframe tbody tr th {\n",
       "        vertical-align: top;\n",
       "    }\n",
       "\n",
       "    .dataframe thead th {\n",
       "        text-align: right;\n",
       "    }\n",
       "</style>\n",
       "<table border=\"1\" class=\"dataframe\">\n",
       "  <thead>\n",
       "    <tr style=\"text-align: right;\">\n",
       "      <th></th>\n",
       "      <th>omset</th>\n",
       "      <th>operasional</th>\n",
       "    </tr>\n",
       "  </thead>\n",
       "  <tbody>\n",
       "    <tr>\n",
       "      <th>0</th>\n",
       "      <td>16</td>\n",
       "      <td>1</td>\n",
       "    </tr>\n",
       "    <tr>\n",
       "      <th>1</th>\n",
       "      <td>13</td>\n",
       "      <td>2</td>\n",
       "    </tr>\n",
       "    <tr>\n",
       "      <th>2</th>\n",
       "      <td>15</td>\n",
       "      <td>15</td>\n",
       "    </tr>\n",
       "    <tr>\n",
       "      <th>3</th>\n",
       "      <td>2</td>\n",
       "      <td>6</td>\n",
       "    </tr>\n",
       "    <tr>\n",
       "      <th>4</th>\n",
       "      <td>1</td>\n",
       "      <td>8</td>\n",
       "    </tr>\n",
       "  </tbody>\n",
       "</table>\n",
       "</div>"
      ],
      "text/plain": [
       "   omset  operasional\n",
       "0     16            1\n",
       "1     13            2\n",
       "2     15           15\n",
       "3      2            6\n",
       "4      1            8"
      ]
     },
     "execution_count": 3,
     "metadata": {},
     "output_type": "execute_result"
    }
   ],
   "source": [
    "n_rows = 5\n",
    "n_cols = 2\n",
    "cols = ['omset', 'operasional'] #label\n",
    "\n",
    "df = pd.DataFrame(np.random.randint(1, 20, size=(n_rows, n_cols)),\n",
    "                 columns=cols)\n",
    "df"
   ]
  },
  {
   "cell_type": "code",
   "execution_count": 4,
   "id": "2b434217",
   "metadata": {},
   "outputs": [
    {
     "data": {
      "text/html": [
       "<div>\n",
       "<style scoped>\n",
       "    .dataframe tbody tr th:only-of-type {\n",
       "        vertical-align: middle;\n",
       "    }\n",
       "\n",
       "    .dataframe tbody tr th {\n",
       "        vertical-align: top;\n",
       "    }\n",
       "\n",
       "    .dataframe thead th {\n",
       "        text-align: right;\n",
       "    }\n",
       "</style>\n",
       "<table border=\"1\" class=\"dataframe\">\n",
       "  <thead>\n",
       "    <tr style=\"text-align: right;\">\n",
       "      <th></th>\n",
       "      <th>omset</th>\n",
       "      <th>operasional</th>\n",
       "    </tr>\n",
       "  </thead>\n",
       "  <tbody>\n",
       "    <tr>\n",
       "      <th>0</th>\n",
       "      <td>1600000</td>\n",
       "      <td>10000</td>\n",
       "    </tr>\n",
       "    <tr>\n",
       "      <th>1</th>\n",
       "      <td>1300000</td>\n",
       "      <td>20000</td>\n",
       "    </tr>\n",
       "    <tr>\n",
       "      <th>2</th>\n",
       "      <td>1500000</td>\n",
       "      <td>150000</td>\n",
       "    </tr>\n",
       "    <tr>\n",
       "      <th>3</th>\n",
       "      <td>200000</td>\n",
       "      <td>60000</td>\n",
       "    </tr>\n",
       "    <tr>\n",
       "      <th>4</th>\n",
       "      <td>100000</td>\n",
       "      <td>80000</td>\n",
       "    </tr>\n",
       "  </tbody>\n",
       "</table>\n",
       "</div>"
      ],
      "text/plain": [
       "     omset  operasional\n",
       "0  1600000        10000\n",
       "1  1300000        20000\n",
       "2  1500000       150000\n",
       "3   200000        60000\n",
       "4   100000        80000"
      ]
     },
     "execution_count": 4,
     "metadata": {},
     "output_type": "execute_result"
    }
   ],
   "source": [
    "df['omset'] = df['omset'] * 100_000 # (_) ignore character\n",
    "df['operasional'] = df['operasional'] * 10_000\n",
    "df"
   ]
  },
  {
   "cell_type": "code",
   "execution_count": 6,
   "id": "101fc7c0",
   "metadata": {},
   "outputs": [
    {
     "name": "stderr",
     "output_type": "stream",
     "text": [
      "D:\\ANACONDA\\lib\\site-packages\\pandas\\util\\__init__.py:15: FutureWarning: pandas.util.testing is deprecated. Use the functions in the public API at pandas.testing instead.\n",
      "  import pandas.util.testing\n"
     ]
    },
    {
     "data": {
      "text/html": [
       "<div>\n",
       "<style scoped>\n",
       "    .dataframe tbody tr th:only-of-type {\n",
       "        vertical-align: middle;\n",
       "    }\n",
       "\n",
       "    .dataframe tbody tr th {\n",
       "        vertical-align: top;\n",
       "    }\n",
       "\n",
       "    .dataframe thead th {\n",
       "        text-align: right;\n",
       "    }\n",
       "</style>\n",
       "<table border=\"1\" class=\"dataframe\">\n",
       "  <thead>\n",
       "    <tr style=\"text-align: right;\">\n",
       "      <th></th>\n",
       "      <th>tanggal</th>\n",
       "      <th>omset</th>\n",
       "      <th>operasional</th>\n",
       "    </tr>\n",
       "  </thead>\n",
       "  <tbody>\n",
       "    <tr>\n",
       "      <th>0</th>\n",
       "      <td>2000-01-01</td>\n",
       "      <td>1600000</td>\n",
       "      <td>10000</td>\n",
       "    </tr>\n",
       "    <tr>\n",
       "      <th>1</th>\n",
       "      <td>2000-01-02</td>\n",
       "      <td>1300000</td>\n",
       "      <td>20000</td>\n",
       "    </tr>\n",
       "    <tr>\n",
       "      <th>2</th>\n",
       "      <td>2000-01-03</td>\n",
       "      <td>1500000</td>\n",
       "      <td>150000</td>\n",
       "    </tr>\n",
       "    <tr>\n",
       "      <th>3</th>\n",
       "      <td>2000-01-04</td>\n",
       "      <td>200000</td>\n",
       "      <td>60000</td>\n",
       "    </tr>\n",
       "    <tr>\n",
       "      <th>4</th>\n",
       "      <td>2000-01-05</td>\n",
       "      <td>100000</td>\n",
       "      <td>80000</td>\n",
       "    </tr>\n",
       "  </tbody>\n",
       "</table>\n",
       "</div>"
      ],
      "text/plain": [
       "     tanggal    omset  operasional\n",
       "0 2000-01-01  1600000        10000\n",
       "1 2000-01-02  1300000        20000\n",
       "2 2000-01-03  1500000       150000\n",
       "3 2000-01-04   200000        60000\n",
       "4 2000-01-05   100000        80000"
      ]
     },
     "execution_count": 6,
     "metadata": {},
     "output_type": "execute_result"
    }
   ],
   "source": [
    "df.index = pd.util.testing.makeDateIndex(n_rows, freq='D')\n",
    "df = df.reset_index() #menguba index saat ini menjadi kolom biasa dengan nama index\n",
    "df = df.rename(columns={'index':'tanggal'})\n",
    "df"
   ]
  },
  {
   "cell_type": "markdown",
   "id": "c4e95efc",
   "metadata": {},
   "source": [
    "### Melakukan formatting tampilan Data Frame"
   ]
  },
  {
   "cell_type": "code",
   "execution_count": 14,
   "id": "fb6ea16b",
   "metadata": {},
   "outputs": [
    {
     "data": {
      "text/html": [
       "<style type=\"text/css\">\n",
       "</style>\n",
       "<table id=\"T_2a8d3_\">\n",
       "  <thead>\n",
       "    <tr>\n",
       "      <th class=\"blank level0\" >&nbsp;</th>\n",
       "      <th class=\"col_heading level0 col0\" >tanggal</th>\n",
       "      <th class=\"col_heading level0 col1\" >omset</th>\n",
       "      <th class=\"col_heading level0 col2\" >operasional</th>\n",
       "    </tr>\n",
       "  </thead>\n",
       "  <tbody>\n",
       "    <tr>\n",
       "      <th id=\"T_2a8d3_level0_row0\" class=\"row_heading level0 row0\" >0</th>\n",
       "      <td id=\"T_2a8d3_row0_col0\" class=\"data row0 col0\" >01/01/00</td>\n",
       "      <td id=\"T_2a8d3_row0_col1\" class=\"data row0 col1\" >Rp 1600000.00</td>\n",
       "      <td id=\"T_2a8d3_row0_col2\" class=\"data row0 col2\" >Rp 10000.00</td>\n",
       "    </tr>\n",
       "    <tr>\n",
       "      <th id=\"T_2a8d3_level0_row1\" class=\"row_heading level0 row1\" >1</th>\n",
       "      <td id=\"T_2a8d3_row1_col0\" class=\"data row1 col0\" >02/01/00</td>\n",
       "      <td id=\"T_2a8d3_row1_col1\" class=\"data row1 col1\" >Rp 1300000.00</td>\n",
       "      <td id=\"T_2a8d3_row1_col2\" class=\"data row1 col2\" >Rp 20000.00</td>\n",
       "    </tr>\n",
       "    <tr>\n",
       "      <th id=\"T_2a8d3_level0_row2\" class=\"row_heading level0 row2\" >2</th>\n",
       "      <td id=\"T_2a8d3_row2_col0\" class=\"data row2 col0\" >03/01/00</td>\n",
       "      <td id=\"T_2a8d3_row2_col1\" class=\"data row2 col1\" >Rp 1500000.00</td>\n",
       "      <td id=\"T_2a8d3_row2_col2\" class=\"data row2 col2\" >Rp 150000.00</td>\n",
       "    </tr>\n",
       "    <tr>\n",
       "      <th id=\"T_2a8d3_level0_row3\" class=\"row_heading level0 row3\" >3</th>\n",
       "      <td id=\"T_2a8d3_row3_col0\" class=\"data row3 col0\" >04/01/00</td>\n",
       "      <td id=\"T_2a8d3_row3_col1\" class=\"data row3 col1\" >Rp 200000.00</td>\n",
       "      <td id=\"T_2a8d3_row3_col2\" class=\"data row3 col2\" >Rp 60000.00</td>\n",
       "    </tr>\n",
       "    <tr>\n",
       "      <th id=\"T_2a8d3_level0_row4\" class=\"row_heading level0 row4\" >4</th>\n",
       "      <td id=\"T_2a8d3_row4_col0\" class=\"data row4 col0\" >05/01/00</td>\n",
       "      <td id=\"T_2a8d3_row4_col1\" class=\"data row4 col1\" >Rp 100000.00</td>\n",
       "      <td id=\"T_2a8d3_row4_col2\" class=\"data row4 col2\" >Rp 80000.00</td>\n",
       "    </tr>\n",
       "  </tbody>\n",
       "</table>\n"
      ],
      "text/plain": [
       "<pandas.io.formats.style.Styler at 0x1a610152910>"
      ]
     },
     "execution_count": 14,
     "metadata": {},
     "output_type": "execute_result"
    }
   ],
   "source": [
    "formatku = {'tanggal':'{:%d/%m/%y}', #format data string dengan memulai tanda {}\n",
    "            'operasional':'Rp {:.2f}',\n",
    "            'omset':'Rp {:.2f}'}\n",
    "laporan = df.style.format(formatku)\n",
    "laporan"
   ]
  },
  {
   "cell_type": "code",
   "execution_count": 15,
   "id": "714aec6c",
   "metadata": {},
   "outputs": [
    {
     "data": {
      "text/plain": [
       "pandas.io.formats.style.Styler"
      ]
     },
     "execution_count": 15,
     "metadata": {},
     "output_type": "execute_result"
    }
   ],
   "source": [
    "type(laporan)"
   ]
  },
  {
   "cell_type": "code",
   "execution_count": 16,
   "id": "0949ae1a",
   "metadata": {},
   "outputs": [
    {
     "data": {
      "text/html": [
       "<style type=\"text/css\">\n",
       "</style>\n",
       "<table id=\"T_2a8d3_\">\n",
       "  <thead>\n",
       "    <tr>\n",
       "      <th class=\"col_heading level0 col0\" >tanggal</th>\n",
       "      <th class=\"col_heading level0 col1\" >omset</th>\n",
       "      <th class=\"col_heading level0 col2\" >operasional</th>\n",
       "    </tr>\n",
       "  </thead>\n",
       "  <tbody>\n",
       "    <tr>\n",
       "      <td id=\"T_2a8d3_row0_col0\" class=\"data row0 col0\" >01/01/00</td>\n",
       "      <td id=\"T_2a8d3_row0_col1\" class=\"data row0 col1\" >Rp 1600000.00</td>\n",
       "      <td id=\"T_2a8d3_row0_col2\" class=\"data row0 col2\" >Rp 10000.00</td>\n",
       "    </tr>\n",
       "    <tr>\n",
       "      <td id=\"T_2a8d3_row1_col0\" class=\"data row1 col0\" >02/01/00</td>\n",
       "      <td id=\"T_2a8d3_row1_col1\" class=\"data row1 col1\" >Rp 1300000.00</td>\n",
       "      <td id=\"T_2a8d3_row1_col2\" class=\"data row1 col2\" >Rp 20000.00</td>\n",
       "    </tr>\n",
       "    <tr>\n",
       "      <td id=\"T_2a8d3_row2_col0\" class=\"data row2 col0\" >03/01/00</td>\n",
       "      <td id=\"T_2a8d3_row2_col1\" class=\"data row2 col1\" >Rp 1500000.00</td>\n",
       "      <td id=\"T_2a8d3_row2_col2\" class=\"data row2 col2\" >Rp 150000.00</td>\n",
       "    </tr>\n",
       "    <tr>\n",
       "      <td id=\"T_2a8d3_row3_col0\" class=\"data row3 col0\" >04/01/00</td>\n",
       "      <td id=\"T_2a8d3_row3_col1\" class=\"data row3 col1\" >Rp 200000.00</td>\n",
       "      <td id=\"T_2a8d3_row3_col2\" class=\"data row3 col2\" >Rp 60000.00</td>\n",
       "    </tr>\n",
       "    <tr>\n",
       "      <td id=\"T_2a8d3_row4_col0\" class=\"data row4 col0\" >05/01/00</td>\n",
       "      <td id=\"T_2a8d3_row4_col1\" class=\"data row4 col1\" >Rp 100000.00</td>\n",
       "      <td id=\"T_2a8d3_row4_col2\" class=\"data row4 col2\" >Rp 80000.00</td>\n",
       "    </tr>\n",
       "  </tbody>\n",
       "</table>\n"
      ],
      "text/plain": [
       "<pandas.io.formats.style.Styler at 0x1a610152910>"
      ]
     },
     "execution_count": 16,
     "metadata": {},
     "output_type": "execute_result"
    }
   ],
   "source": [
    "laporan.hide_index()"
   ]
  },
  {
   "cell_type": "code",
   "execution_count": 17,
   "id": "2dfa75de",
   "metadata": {},
   "outputs": [
    {
     "data": {
      "text/html": [
       "<style type=\"text/css\">\n",
       "</style>\n",
       "<table id=\"T_2a8d3_\">\n",
       "  <caption>Data Omset dan Operasional</caption>\n",
       "  <thead>\n",
       "    <tr>\n",
       "      <th class=\"col_heading level0 col0\" >tanggal</th>\n",
       "      <th class=\"col_heading level0 col1\" >omset</th>\n",
       "      <th class=\"col_heading level0 col2\" >operasional</th>\n",
       "    </tr>\n",
       "  </thead>\n",
       "  <tbody>\n",
       "    <tr>\n",
       "      <td id=\"T_2a8d3_row0_col0\" class=\"data row0 col0\" >01/01/00</td>\n",
       "      <td id=\"T_2a8d3_row0_col1\" class=\"data row0 col1\" >Rp 1600000.00</td>\n",
       "      <td id=\"T_2a8d3_row0_col2\" class=\"data row0 col2\" >Rp 10000.00</td>\n",
       "    </tr>\n",
       "    <tr>\n",
       "      <td id=\"T_2a8d3_row1_col0\" class=\"data row1 col0\" >02/01/00</td>\n",
       "      <td id=\"T_2a8d3_row1_col1\" class=\"data row1 col1\" >Rp 1300000.00</td>\n",
       "      <td id=\"T_2a8d3_row1_col2\" class=\"data row1 col2\" >Rp 20000.00</td>\n",
       "    </tr>\n",
       "    <tr>\n",
       "      <td id=\"T_2a8d3_row2_col0\" class=\"data row2 col0\" >03/01/00</td>\n",
       "      <td id=\"T_2a8d3_row2_col1\" class=\"data row2 col1\" >Rp 1500000.00</td>\n",
       "      <td id=\"T_2a8d3_row2_col2\" class=\"data row2 col2\" >Rp 150000.00</td>\n",
       "    </tr>\n",
       "    <tr>\n",
       "      <td id=\"T_2a8d3_row3_col0\" class=\"data row3 col0\" >04/01/00</td>\n",
       "      <td id=\"T_2a8d3_row3_col1\" class=\"data row3 col1\" >Rp 200000.00</td>\n",
       "      <td id=\"T_2a8d3_row3_col2\" class=\"data row3 col2\" >Rp 60000.00</td>\n",
       "    </tr>\n",
       "    <tr>\n",
       "      <td id=\"T_2a8d3_row4_col0\" class=\"data row4 col0\" >05/01/00</td>\n",
       "      <td id=\"T_2a8d3_row4_col1\" class=\"data row4 col1\" >Rp 100000.00</td>\n",
       "      <td id=\"T_2a8d3_row4_col2\" class=\"data row4 col2\" >Rp 80000.00</td>\n",
       "    </tr>\n",
       "  </tbody>\n",
       "</table>\n"
      ],
      "text/plain": [
       "<pandas.io.formats.style.Styler at 0x1a610152910>"
      ]
     },
     "execution_count": 17,
     "metadata": {},
     "output_type": "execute_result"
    }
   ],
   "source": [
    "laporan.set_caption('Data Omset dan Operasional')"
   ]
  },
  {
   "cell_type": "code",
   "execution_count": 13,
   "id": "ab62fe23",
   "metadata": {},
   "outputs": [
    {
     "data": {
      "text/html": [
       "<style type=\"text/css\">\n",
       "#T_56059_row0_col1 {\n",
       "  background-color: lightgreen;\n",
       "}\n",
       "#T_56059_row0_col2 {\n",
       "  background-color: lightblue;\n",
       "}\n",
       "#T_56059_row2_col2 {\n",
       "  background-color: grey;\n",
       "}\n",
       "#T_56059_row4_col1 {\n",
       "  background-color: pink;\n",
       "}\n",
       "</style>\n",
       "<table id=\"T_56059_\">\n",
       "  <caption>Data Omset dan Operasional</caption>\n",
       "  <thead>\n",
       "    <tr>\n",
       "      <th class=\"col_heading level0 col0\" >tanggal</th>\n",
       "      <th class=\"col_heading level0 col1\" >omset</th>\n",
       "      <th class=\"col_heading level0 col2\" >operasional</th>\n",
       "    </tr>\n",
       "  </thead>\n",
       "  <tbody>\n",
       "    <tr>\n",
       "      <td id=\"T_56059_row0_col0\" class=\"data row0 col0\" >01/01/00</td>\n",
       "      <td id=\"T_56059_row0_col1\" class=\"data row0 col1\" >Rp 1600000.00</td>\n",
       "      <td id=\"T_56059_row0_col2\" class=\"data row0 col2\" >Rp (:.2f)</td>\n",
       "    </tr>\n",
       "    <tr>\n",
       "      <td id=\"T_56059_row1_col0\" class=\"data row1 col0\" >02/01/00</td>\n",
       "      <td id=\"T_56059_row1_col1\" class=\"data row1 col1\" >Rp 1300000.00</td>\n",
       "      <td id=\"T_56059_row1_col2\" class=\"data row1 col2\" >Rp (:.2f)</td>\n",
       "    </tr>\n",
       "    <tr>\n",
       "      <td id=\"T_56059_row2_col0\" class=\"data row2 col0\" >03/01/00</td>\n",
       "      <td id=\"T_56059_row2_col1\" class=\"data row2 col1\" >Rp 1500000.00</td>\n",
       "      <td id=\"T_56059_row2_col2\" class=\"data row2 col2\" >Rp (:.2f)</td>\n",
       "    </tr>\n",
       "    <tr>\n",
       "      <td id=\"T_56059_row3_col0\" class=\"data row3 col0\" >04/01/00</td>\n",
       "      <td id=\"T_56059_row3_col1\" class=\"data row3 col1\" >Rp 200000.00</td>\n",
       "      <td id=\"T_56059_row3_col2\" class=\"data row3 col2\" >Rp (:.2f)</td>\n",
       "    </tr>\n",
       "    <tr>\n",
       "      <td id=\"T_56059_row4_col0\" class=\"data row4 col0\" >05/01/00</td>\n",
       "      <td id=\"T_56059_row4_col1\" class=\"data row4 col1\" >Rp 100000.00</td>\n",
       "      <td id=\"T_56059_row4_col2\" class=\"data row4 col2\" >Rp (:.2f)</td>\n",
       "    </tr>\n",
       "  </tbody>\n",
       "</table>\n"
      ],
      "text/plain": [
       "<pandas.io.formats.style.Styler at 0x1a60f36ac40>"
      ]
     },
     "execution_count": 13,
     "metadata": {},
     "output_type": "execute_result"
    }
   ],
   "source": [
    "laporan.highlight_min('omset', color='pink')\n",
    "laporan.highlight_max('omset', color='lightgreen')\n",
    "\n",
    "laporan.highlight_min('operasional', color='lightblue')\n",
    "laporan.highlight_max('operasional', color='grey')"
   ]
  }
 ],
 "metadata": {
  "kernelspec": {
   "display_name": "Python 3 (ipykernel)",
   "language": "python",
   "name": "python3"
  },
  "language_info": {
   "codemirror_mode": {
    "name": "ipython",
    "version": 3
   },
   "file_extension": ".py",
   "mimetype": "text/x-python",
   "name": "python",
   "nbconvert_exporter": "python",
   "pygments_lexer": "ipython3",
   "version": "3.9.7"
  }
 },
 "nbformat": 4,
 "nbformat_minor": 5
}
